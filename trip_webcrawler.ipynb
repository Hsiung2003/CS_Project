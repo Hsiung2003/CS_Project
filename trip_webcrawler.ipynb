{
 "cells": [
  {
   "cell_type": "code",
   "execution_count": 10,
   "id": "aac989d3",
   "metadata": {},
   "outputs": [
    {
     "name": "stdout",
     "output_type": "stream",
     "text": [
      "--\n"
     ]
    }
   ],
   "source": [
    "#---------------------------------------------------Webcrawler-----------------------------------------------------#\n",
    "\n",
    "from selenium import webdriver\n",
    "from selenium.webdriver.chrome.options import Options\n",
    "from selenium.webdriver.chrome.service import Service \n",
    "from webdriver_manager.chrome import ChromeDriverManager\n",
    "from selenium.webdriver.support.ui import Select\n",
    "from selenium.webdriver.common.by import By\n",
    "from selenium.webdriver.common.keys import Keys\n",
    "from bs4 import BeautifulSoup\n",
    "from fake_useragent import UserAgent\n",
    "import requests\n",
    "import time\n",
    "\n",
    "def trip_webcrawler():\n",
    "\n",
    "    ua = UserAgent()\n",
    "    user_agent=ua.random\n",
    "\n",
    "    opts = Options()\n",
    "    opts.add_argument(\"user_agent\")\n",
    "    opts.add_argument(\"--disable-notifications\")\n",
    "    opts.add_argument(\"--headless\")\n",
    "    \n",
    "    driver = webdriver.Chrome(service=Service(ChromeDriverManager().install()),options=opts)\n",
    "    url = \"https://tc.trip.com/\"\n",
    "    driver.get(url)\n",
    "    driver.implicitly_wait(5)\n",
    "\n",
    "    #ticket type\n",
    "    ticket = driver.find_element(By.XPATH, \"/html/body/div/div[2]/div[2]/div/div[2]/div/div[1]/ul/li[2]/span\")\n",
    "    ticket.click()\n",
    "\n",
    "    #one way\n",
    "    one_way = driver.find_element(By.XPATH, \"//*[@id='searchBoxCon']/div/div/form/div/div[1]/div[1]/div[1]/div[1]\")\n",
    "    one_way.click()\n",
    "    one_way = driver.find_element(By.XPATH, \"//*[@id='searchBoxCon']/div[2]/div/form/div/div[1]/div[1]/div[1]/div[2]/ul/li[1]\")\n",
    "    one_way.click()\n",
    "\n",
    "    #user departure\n",
    "    departure = driver.find_element(By.XPATH,\"//*[@id='searchBoxCon']/div[2]/div/form/div/div[2]/div[1]/ul/li[1]/div[2]/div[1]/div/div/div/div/input\") \n",
    "    departure.click()\n",
    "    departure.clear()\n",
    "    departure.send_keys(\"台灣\")\n",
    "\n",
    "    #user destination\n",
    "    delete = driver.find_element(By.XPATH,\"//*[@id='searchBoxCon']/div[2]/div/form/div/div[2]/div[1]/ul/li[1]/div[2]/div[3]/div/div/div/div/input\")\n",
    "    delete.click()\n",
    "    destination = driver.find_element(By.XPATH,\"//*[@id='searchBoxCon']/div[2]/div/form/div/div[2]/div[1]/ul/li[1]/div[2]/div[3]/div/div/div/div/input\") \n",
    "    destination.click()\n",
    "    destination.clear()\n",
    "    destination.send_keys(\"新加坡\")\n",
    "    time.sleep(3)\n",
    "    destination.send_keys(Keys.CONTROL,'\\ue007')\n",
    "\n",
    "    #submit\n",
    "    button = driver.find_element(By.XPATH,\"//*[@id='searchBoxCon']/div[2]/div/form/div/div[2]/div[2]/span\")\n",
    "    button.click()\n",
    "    time.sleep(10)\n",
    "    \n",
    "    new_url = driver.current_url\n",
    "    n_driver = webdriver.Chrome(service=Service(ChromeDriverManager().install()),options=opts)\n",
    "    n_driver.get(new_url)\n",
    "\n",
    "    #find lowest price\n",
    "    lowest_price = n_driver.find_element(By.XPATH,\"//*[@id='main']/div[2]/div[5]/div[1]/div[1]/div[4]/div[1]/div[1]/div/div[2]/div[2]\")\n",
    "    lowest_price = lowest_price.text\n",
    "    driver.close()\n",
    "    n_driver.close()\n",
    "    return lowest_price\n",
    "\n",
    "trip_price = trip_webcrawler()"
   ]
  },
  {
   "cell_type": "code",
   "execution_count": null,
   "id": "9378ecba",
   "metadata": {},
   "outputs": [],
   "source": []
  }
 ],
 "metadata": {
  "kernelspec": {
   "display_name": "Python 3 (ipykernel)",
   "language": "python",
   "name": "python3"
  },
  "language_info": {
   "codemirror_mode": {
    "name": "ipython",
    "version": 3
   },
   "file_extension": ".py",
   "mimetype": "text/x-python",
   "name": "python",
   "nbconvert_exporter": "python",
   "pygments_lexer": "ipython3",
   "version": "3.11.3"
  }
 },
 "nbformat": 4,
 "nbformat_minor": 5
}
