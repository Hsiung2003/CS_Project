{
 "cells": [
  {
   "cell_type": "code",
   "execution_count": 9,
   "id": "2a55bb02",
   "metadata": {},
   "outputs": [
    {
     "name": "stdout",
     "output_type": "stream",
     "text": [
      "6758\n"
     ]
    }
   ],
   "source": [
    "#----------------------------------------------------------GUI-----------------------------------------------------------------#\n",
    "from tkinter import *\n",
    "from tkcalendar import Calendar\n",
    "\n",
    "root = Tk()\n",
    "\n",
    "def Confirm():\n",
    "    label2.config(text = \"Selected Date is: \" + cal.get_date()) #Why get_ not get()?\n",
    "    label3.config(text = \"From: \" + entry0.get())\n",
    "    label4.config(text = \"To: \" + entry1.get())\n",
    "    print(entry0.get())\n",
    "    print(type(entry0.get()))\n",
    "    \n",
    "def Submit():\n",
    "    root.destroy()\n",
    "\n",
    "#Creating Labels\n",
    "label0 = Label(root, text=\"From:\")\n",
    "label1 = Label(root, text=\"To:\")\n",
    "label2 = Label(root)\n",
    "label3 = Label(root)\n",
    "label4 = Label(root)\n",
    "label0.grid(row=0, column=0)\n",
    "label1.grid(row=1, column=0)\n",
    "label2.grid(row=4, column=0, columnspan=2)\n",
    "label3.grid(row=5, column=0, columnspan=2)\n",
    "label4.grid(row=6, column=0, columnspan=2)\n",
    "\n",
    "#Creating Entries\n",
    "entry0 = Entry(root)\n",
    "entry1 = Entry(root)\n",
    "entry0.grid(row=0, column=1)\n",
    "entry1.grid(row=1, column=1)\n",
    "\n",
    "#Creating Calendar\n",
    "cal = Calendar(root, selectmode = 'day', year = 2022, month = 12, day = 1)\n",
    "cal.grid(row=2, column=0, columnspan=2)\n",
    "\n",
    "#Creating Button\n",
    "button0 = Button(root, text=\"confirm\", command=Confirm)\n",
    "button1 = Button(root, text=\"Go!\", command=Submit)\n",
    "button0.grid(row=3, column=0, columnspan=2)\n",
    "button1.grid(row=7, column=0, columnspan=2)\n",
    "\n",
    "root.mainloop()\n",
    "#-------------------------------------------------------crawler----------------------------------------------------------------#\n",
    "import Ipynb_importer\n",
    "import requests\n",
    "from funtime_webcrawler import *\n",
    "from trip_webcrawler import *\n",
    "\n",
    "trip_p = trip_price.split(\"NT$\")\n",
    "trip_res = trip_p[1].split(\",\")\n",
    "trip_result = trip_res[0]+trip_res[1]\n",
    "funtime_res = funtime_price.split(\",\")\n",
    "funtime_result = funtime_res[0]+funtime_res[1]\n",
    "\n",
    "funtime_result = int(funtime_result)\n",
    "trip_result = int(trip_result)\n",
    "if(funtime_result >= trip_result):\n",
    "    print(trip_result)\n",
    "else:\n",
    "    print(funtime_result)"
   ]
  },
  {
   "cell_type": "code",
   "execution_count": null,
   "id": "f3bdc2f4",
   "metadata": {},
   "outputs": [],
   "source": []
  },
  {
   "cell_type": "code",
   "execution_count": null,
   "id": "7e536028",
   "metadata": {},
   "outputs": [],
   "source": []
  }
 ],
 "metadata": {
  "kernelspec": {
   "display_name": "Python 3 (ipykernel)",
   "language": "python",
   "name": "python3"
  },
  "language_info": {
   "codemirror_mode": {
    "name": "ipython",
    "version": 3
   },
   "file_extension": ".py",
   "mimetype": "text/x-python",
   "name": "python",
   "nbconvert_exporter": "python",
   "pygments_lexer": "ipython3",
   "version": "3.11.3"
  }
 },
 "nbformat": 4,
 "nbformat_minor": 5
}
